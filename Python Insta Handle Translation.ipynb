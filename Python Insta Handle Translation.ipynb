{
 "cells": [
  {
   "cell_type": "code",
   "execution_count": 5,
   "id": "c4d4f830",
   "metadata": {},
   "outputs": [
    {
     "name": "stdout",
     "output_type": "stream",
     "text": [
      "Enter a phrase: On_my_way_\n",
      "Xn_my_wxy_\n"
     ]
    }
   ],
   "source": [
    "def translation(phrase):\n",
    "    translation = \"\"\n",
    "    for letter in phrase:\n",
    "        if letter.lower() in \"aeiou\":\n",
    "            if letter.isupper():\n",
    "                translation = translation + \"X\"\n",
    "            else:\n",
    "                translation = translation + \"x\"\n",
    "        else:\n",
    "            translation = translation + letter\n",
    "    print(translation)\n",
    "\n",
    "phrase = translation(input(\"Enter a phrase: \"))"
   ]
  },
  {
   "cell_type": "code",
   "execution_count": null,
   "id": "b7318410",
   "metadata": {},
   "outputs": [],
   "source": []
  }
 ],
 "metadata": {
  "kernelspec": {
   "display_name": "Python 3 (ipykernel)",
   "language": "python",
   "name": "python3"
  },
  "language_info": {
   "codemirror_mode": {
    "name": "ipython",
    "version": 3
   },
   "file_extension": ".py",
   "mimetype": "text/x-python",
   "name": "python",
   "nbconvert_exporter": "python",
   "pygments_lexer": "ipython3",
   "version": "3.11.5"
  }
 },
 "nbformat": 4,
 "nbformat_minor": 5
}
